{
 "cells": [
  {
   "cell_type": "markdown",
   "id": "a67a7473",
   "metadata": {},
   "source": [
    "# Top repositories for github topics\n"
   ]
  },
  {
   "cell_type": "markdown",
   "id": "ddd7a8d6",
   "metadata": {},
   "source": [
    "### import library "
   ]
  },
  {
   "cell_type": "code",
   "execution_count": 103,
   "id": "768de811",
   "metadata": {},
   "outputs": [],
   "source": [
    "import requests\n",
    "from bs4 import BeautifulSoup\n",
    "import pandas as pd\n",
    "import os"
   ]
  },
  {
   "cell_type": "markdown",
   "id": "1fb60291",
   "metadata": {},
   "source": [
    "### Get a list of topics ( title, description, url)"
   ]
  },
  {
   "cell_type": "code",
   "execution_count": 104,
   "id": "183e0e29",
   "metadata": {},
   "outputs": [],
   "source": [
    "#  parse information from the web\n",
    "def get_topics_page():\n",
    "    topics_url = 'https://github.com/topics'\n",
    "    res = requests.get(topics_url)\n",
    "    # load page fail\n",
    "    if res.status_code != 200:\n",
    "        raise Exception('Failed to load page {}'.format(topics_url))   \n",
    "    # get resource code\n",
    "    page_contents = res.text\n",
    "    doc = BeautifulSoup(page_contents, 'html.parser')\n",
    "    return doc"
   ]
  },
  {
   "cell_type": "code",
   "execution_count": 105,
   "id": "45f68a20",
   "metadata": {},
   "outputs": [],
   "source": [
    "doc = get_topics_page()"
   ]
  },
  {
   "cell_type": "code",
   "execution_count": 106,
   "id": "5a4bd5ae",
   "metadata": {},
   "outputs": [],
   "source": [
    "# get the title of topics\n",
    "def get_topics_title(doc):\n",
    "    #read title of topics\n",
    "    topics_title_tags = doc.find_all('p',class_=\"f3 lh-condensed mb-0 mt-1 Link--primary\")\n",
    "    # create list of titte\n",
    "    topics_title = []\n",
    "    for title in topics_title_tags:\n",
    "        topics_title.append(title.text)\n",
    "    return topics_title"
   ]
  },
  {
   "cell_type": "code",
   "execution_count": 107,
   "id": "2d614655",
   "metadata": {},
   "outputs": [
    {
     "data": {
      "text/plain": [
       "['3D', 'Ajax', 'Algorithm', 'Amp', 'Android']"
      ]
     },
     "execution_count": 107,
     "metadata": {},
     "output_type": "execute_result"
    }
   ],
   "source": [
    "topics_title = get_topics_title(doc)\n",
    "topics_title[:5]"
   ]
  },
  {
   "cell_type": "code",
   "execution_count": 108,
   "id": "2e1675ee",
   "metadata": {},
   "outputs": [],
   "source": [
    "# get the description of topics\n",
    "def get_desc_topics(doc):\n",
    "    #read description of topics\n",
    "    topics_desc_tags = doc.find_all('p',class_=\"f5 color-text-secondary mb-0 mt-1\")\n",
    "    # create list of desc\n",
    "    topics_desc = []\n",
    "    for desc in topics_desc_tags:\n",
    "        topics_desc.append(desc.text.strip())\n",
    "    return topics_desc"
   ]
  },
  {
   "cell_type": "code",
   "execution_count": 109,
   "id": "69d44075",
   "metadata": {},
   "outputs": [
    {
     "data": {
      "text/plain": [
       "['3D modeling is the process of virtually developing the surface and structure of a 3D object.',\n",
       " 'Ajax is a technique for creating interactive web applications.',\n",
       " 'Algorithms are self-contained sequences that carry out a variety of tasks.',\n",
       " 'Amp is a non-blocking concurrency framework for PHP.',\n",
       " 'Android is an operating system built by Google designed for mobile devices.']"
      ]
     },
     "execution_count": 109,
     "metadata": {},
     "output_type": "execute_result"
    }
   ],
   "source": [
    "topics_desc = get_desc_topics(doc)\n",
    "topics_desc[:5]"
   ]
  },
  {
   "cell_type": "code",
   "execution_count": 110,
   "id": "628344d3",
   "metadata": {},
   "outputs": [],
   "source": [
    "def get_url_topics(doc):\n",
    "     #read url of topics\n",
    "    topics_url_tags = doc.find_all('a',class_=\"d-flex no-underline\")\n",
    "    # create list of url\n",
    "    topics_url = []\n",
    "    base_url = 'https://github.com/'\n",
    "    for url in topics_url_tags:\n",
    "        url = base_url + url['href']\n",
    "        topics_url.append(url)\n",
    "    return topics_url"
   ]
  },
  {
   "cell_type": "code",
   "execution_count": 111,
   "id": "ad70dc00",
   "metadata": {},
   "outputs": [
    {
     "data": {
      "text/plain": [
       "['https://github.com//topics/3d',\n",
       " 'https://github.com//topics/ajax',\n",
       " 'https://github.com//topics/algorithm',\n",
       " 'https://github.com//topics/amphp',\n",
       " 'https://github.com//topics/android']"
      ]
     },
     "execution_count": 111,
     "metadata": {},
     "output_type": "execute_result"
    }
   ],
   "source": [
    "topics_url = get_url_topics(doc)\n",
    "topics_url[:5]"
   ]
  },
  {
   "cell_type": "code",
   "execution_count": 112,
   "id": "0a74f35c",
   "metadata": {},
   "outputs": [],
   "source": [
    "def get_topics(doc):        \n",
    "    topics_dict = {\n",
    "        'title': get_topics_title(doc),\n",
    "        'description': get_desc_topics(doc),\n",
    "        'url': get_url_topics(doc)\n",
    "    }\n",
    "    return pd.DataFrame(topics_dict)"
   ]
  },
  {
   "cell_type": "code",
   "execution_count": 113,
   "id": "4526dfaa",
   "metadata": {},
   "outputs": [
    {
     "data": {
      "text/html": [
       "<div>\n",
       "<style scoped>\n",
       "    .dataframe tbody tr th:only-of-type {\n",
       "        vertical-align: middle;\n",
       "    }\n",
       "\n",
       "    .dataframe tbody tr th {\n",
       "        vertical-align: top;\n",
       "    }\n",
       "\n",
       "    .dataframe thead th {\n",
       "        text-align: right;\n",
       "    }\n",
       "</style>\n",
       "<table border=\"1\" class=\"dataframe\">\n",
       "  <thead>\n",
       "    <tr style=\"text-align: right;\">\n",
       "      <th></th>\n",
       "      <th>title</th>\n",
       "      <th>description</th>\n",
       "      <th>url</th>\n",
       "    </tr>\n",
       "  </thead>\n",
       "  <tbody>\n",
       "    <tr>\n",
       "      <th>0</th>\n",
       "      <td>3D</td>\n",
       "      <td>3D modeling is the process of virtually develo...</td>\n",
       "      <td>https://github.com//topics/3d</td>\n",
       "    </tr>\n",
       "    <tr>\n",
       "      <th>1</th>\n",
       "      <td>Ajax</td>\n",
       "      <td>Ajax is a technique for creating interactive w...</td>\n",
       "      <td>https://github.com//topics/ajax</td>\n",
       "    </tr>\n",
       "    <tr>\n",
       "      <th>2</th>\n",
       "      <td>Algorithm</td>\n",
       "      <td>Algorithms are self-contained sequences that c...</td>\n",
       "      <td>https://github.com//topics/algorithm</td>\n",
       "    </tr>\n",
       "    <tr>\n",
       "      <th>3</th>\n",
       "      <td>Amp</td>\n",
       "      <td>Amp is a non-blocking concurrency framework fo...</td>\n",
       "      <td>https://github.com//topics/amphp</td>\n",
       "    </tr>\n",
       "    <tr>\n",
       "      <th>4</th>\n",
       "      <td>Android</td>\n",
       "      <td>Android is an operating system built by Google...</td>\n",
       "      <td>https://github.com//topics/android</td>\n",
       "    </tr>\n",
       "  </tbody>\n",
       "</table>\n",
       "</div>"
      ],
      "text/plain": [
       "       title                                        description  \\\n",
       "0         3D  3D modeling is the process of virtually develo...   \n",
       "1       Ajax  Ajax is a technique for creating interactive w...   \n",
       "2  Algorithm  Algorithms are self-contained sequences that c...   \n",
       "3        Amp  Amp is a non-blocking concurrency framework fo...   \n",
       "4    Android  Android is an operating system built by Google...   \n",
       "\n",
       "                                    url  \n",
       "0         https://github.com//topics/3d  \n",
       "1       https://github.com//topics/ajax  \n",
       "2  https://github.com//topics/algorithm  \n",
       "3      https://github.com//topics/amphp  \n",
       "4    https://github.com//topics/android  "
      ]
     },
     "execution_count": 113,
     "metadata": {},
     "output_type": "execute_result"
    }
   ],
   "source": [
    "topics_df = get_topics(get_topics_page())\n",
    "topics_df.head()"
   ]
  },
  {
   "cell_type": "code",
   "execution_count": 114,
   "id": "420e06db",
   "metadata": {},
   "outputs": [],
   "source": [
    "def scrape_topics(): \n",
    "    topics_df = get_topics(get_topics_page())\n",
    "    \n",
    "    # create csv file\n",
    "    print('Scraping list of topics')\n",
    "    topics_df.to_csv('data/{}.csv'.format('topics'), index= None)"
   ]
  },
  {
   "cell_type": "markdown",
   "id": "8cc594b0",
   "metadata": {},
   "source": [
    "### Get repositories from a topic page"
   ]
  },
  {
   "cell_type": "code",
   "execution_count": 115,
   "id": "83f988a7",
   "metadata": {},
   "outputs": [],
   "source": [
    "#  parse information from the web\n",
    "def get_topic_page(topic_url):\n",
    "    res = requests.get(topic_url)\n",
    "    # load page fail\n",
    "    if res.status_code != 200:\n",
    "        raise Exception('Failed to load page {}'.format(topic_url))   \n",
    "    # get resource code\n",
    "    page_contents = res.text\n",
    "    doc = BeautifulSoup(page_contents, 'html.parser')\n",
    "    return doc"
   ]
  },
  {
   "cell_type": "code",
   "execution_count": 116,
   "id": "382a5382",
   "metadata": {},
   "outputs": [],
   "source": [
    "# run example\n",
    "doc = get_topic_page('https://github.com/topics/3d')"
   ]
  },
  {
   "cell_type": "code",
   "execution_count": 117,
   "id": "626ae103",
   "metadata": {},
   "outputs": [],
   "source": [
    "# convert to float\n",
    "def parseToFloat(star):\n",
    "    star_str = star.strip()\n",
    "    if(star_str[-1] == 'k'):\n",
    "        return int(float(star_str[:-1]) * 1000)   "
   ]
  },
  {
   "cell_type": "code",
   "execution_count": 118,
   "id": "1436ac58",
   "metadata": {},
   "outputs": [],
   "source": [
    "# get infomation of repo (username, repo_name, stars, repo_url)\n",
    "def get_repo_infor(h3_tag, star):\n",
    "    base_url = 'https://github.com/'\n",
    "    topic_repo_a = h3_tag.find_all('a')\n",
    "    username = topic_repo_a[0].text.strip()\n",
    "    repo_name = topic_repo_a[1].text.strip()\n",
    "    stars = base_url + topic_repo_a[1]['href']\n",
    "    repo_url = parseToFloat(star.text.strip())\n",
    "    return username, repo_name, repo_url, stars"
   ]
  },
  {
   "cell_type": "code",
   "execution_count": 119,
   "id": "4e914061",
   "metadata": {},
   "outputs": [],
   "source": [
    "# get repositories of a topic\n",
    "def get_topic_repos(doc):\n",
    "    # Get the h1 tags containing repo title, repo URL and username\n",
    "    topic_repo_tags = doc.find_all('h3', class_=\"f3 color-text-secondary text-normal lh-condensed\")\n",
    "    # Get star tags\n",
    "    topic_repo_star = doc.find_all(class_=\"social-count float-none\")\n",
    "\n",
    "    topic_repos_dic = {\n",
    "        'username':[],\n",
    "        'repo_name': [],\n",
    "        'stars': [],\n",
    "        'repo_url': []\n",
    "    }\n",
    "    # Get repo info\n",
    "    for i in range(len(topic_repo_tags) ):\n",
    "        repo_infor = get_repo_infor(topic_repo_tags[i], topic_repo_star[i])\n",
    "        topic_repos_dic['username'].append(repo_infor[0])\n",
    "        topic_repos_dic['repo_name'].append(repo_infor[1])\n",
    "        topic_repos_dic['repo_url'].append(repo_infor[2])\n",
    "        topic_repos_dic['stars'].append(repo_infor[3])\n",
    "    return pd.DataFrame(topic_repos_dic)"
   ]
  },
  {
   "cell_type": "code",
   "execution_count": 120,
   "id": "156a0787",
   "metadata": {},
   "outputs": [
    {
     "data": {
      "text/html": [
       "<div>\n",
       "<style scoped>\n",
       "    .dataframe tbody tr th:only-of-type {\n",
       "        vertical-align: middle;\n",
       "    }\n",
       "\n",
       "    .dataframe tbody tr th {\n",
       "        vertical-align: top;\n",
       "    }\n",
       "\n",
       "    .dataframe thead th {\n",
       "        text-align: right;\n",
       "    }\n",
       "</style>\n",
       "<table border=\"1\" class=\"dataframe\">\n",
       "  <thead>\n",
       "    <tr style=\"text-align: right;\">\n",
       "      <th></th>\n",
       "      <th>username</th>\n",
       "      <th>repo_name</th>\n",
       "      <th>stars</th>\n",
       "      <th>repo_url</th>\n",
       "    </tr>\n",
       "  </thead>\n",
       "  <tbody>\n",
       "    <tr>\n",
       "      <th>0</th>\n",
       "      <td>mrdoob</td>\n",
       "      <td>three.js</td>\n",
       "      <td>https://github.com//mrdoob/three.js</td>\n",
       "      <td>74900</td>\n",
       "    </tr>\n",
       "    <tr>\n",
       "      <th>1</th>\n",
       "      <td>libgdx</td>\n",
       "      <td>libgdx</td>\n",
       "      <td>https://github.com//libgdx/libgdx</td>\n",
       "      <td>19100</td>\n",
       "    </tr>\n",
       "    <tr>\n",
       "      <th>2</th>\n",
       "      <td>pmndrs</td>\n",
       "      <td>react-three-fiber</td>\n",
       "      <td>https://github.com//pmndrs/react-three-fiber</td>\n",
       "      <td>15300</td>\n",
       "    </tr>\n",
       "    <tr>\n",
       "      <th>3</th>\n",
       "      <td>BabylonJS</td>\n",
       "      <td>Babylon.js</td>\n",
       "      <td>https://github.com//BabylonJS/Babylon.js</td>\n",
       "      <td>15000</td>\n",
       "    </tr>\n",
       "    <tr>\n",
       "      <th>4</th>\n",
       "      <td>aframevr</td>\n",
       "      <td>aframe</td>\n",
       "      <td>https://github.com//aframevr/aframe</td>\n",
       "      <td>13100</td>\n",
       "    </tr>\n",
       "  </tbody>\n",
       "</table>\n",
       "</div>"
      ],
      "text/plain": [
       "    username          repo_name                                         stars  \\\n",
       "0     mrdoob           three.js           https://github.com//mrdoob/three.js   \n",
       "1     libgdx             libgdx             https://github.com//libgdx/libgdx   \n",
       "2     pmndrs  react-three-fiber  https://github.com//pmndrs/react-three-fiber   \n",
       "3  BabylonJS         Babylon.js      https://github.com//BabylonJS/Babylon.js   \n",
       "4   aframevr             aframe           https://github.com//aframevr/aframe   \n",
       "\n",
       "   repo_url  \n",
       "0     74900  \n",
       "1     19100  \n",
       "2     15300  \n",
       "3     15000  \n",
       "4     13100  "
      ]
     },
     "execution_count": 120,
     "metadata": {},
     "output_type": "execute_result"
    }
   ],
   "source": [
    "# example\n",
    "topic_url = topics_df['url'][0]\n",
    "doc = get_topic_page(topic_url)\n",
    "topic_repos_df = get_topic_repos(doc)    \n",
    "topic_repos_df.head()"
   ]
  },
  {
   "cell_type": "code",
   "execution_count": 121,
   "id": "617208c4",
   "metadata": {},
   "outputs": [],
   "source": [
    "# scrape repositories of a topic\n",
    "def scrap_repo(topic_url, topic_title):\n",
    "    fileName = '{}.csv'.format(topic_title)\n",
    "    if os.path.exists(fileName):\n",
    "        print(\"The file {} already exists. Skipping...\".format(fileName))\n",
    "        return \n",
    "    doc = get_topic_page(topic_url)\n",
    "    topic_repos_df = get_topic_repos(doc)\n",
    "    topic_repos_df.to_csv(fileName, index=None)"
   ]
  },
  {
   "cell_type": "code",
   "execution_count": 122,
   "id": "96c16cfd",
   "metadata": {},
   "outputs": [],
   "source": [
    "\n",
    "# scape repositories of the topics\n",
    "def scrap_repo_topics(topics_df):\n",
    "    for index, row in topics_df.iterrows():\n",
    "        print('Scraping top repositories for \"{}\"'.format(row['title']))\n",
    "        scrap_repo(row['url'], 'data/{}.csv'.format(row['title']))\n"
   ]
  },
  {
   "cell_type": "code",
   "execution_count": 123,
   "id": "8d774e6d",
   "metadata": {},
   "outputs": [
    {
     "name": "stdout",
     "output_type": "stream",
     "text": [
      "Scraping list of topics\n",
      "Scraping top repositories for \"3D\"\n",
      "The file data/3D.csv.csv already exists. Skipping...\n",
      "Scraping top repositories for \"Ajax\"\n",
      "The file data/Ajax.csv.csv already exists. Skipping...\n",
      "Scraping top repositories for \"Algorithm\"\n",
      "The file data/Algorithm.csv.csv already exists. Skipping...\n",
      "Scraping top repositories for \"Amp\"\n",
      "The file data/Amp.csv.csv already exists. Skipping...\n",
      "Scraping top repositories for \"Android\"\n",
      "The file data/Android.csv.csv already exists. Skipping...\n",
      "Scraping top repositories for \"Angular\"\n",
      "The file data/Angular.csv.csv already exists. Skipping...\n",
      "Scraping top repositories for \"Ansible\"\n",
      "The file data/Ansible.csv.csv already exists. Skipping...\n",
      "Scraping top repositories for \"API\"\n",
      "The file data/API.csv.csv already exists. Skipping...\n",
      "Scraping top repositories for \"Arduino\"\n",
      "The file data/Arduino.csv.csv already exists. Skipping...\n",
      "Scraping top repositories for \"ASP.NET\"\n",
      "The file data/ASP.NET.csv.csv already exists. Skipping...\n",
      "Scraping top repositories for \"Atom\"\n",
      "The file data/Atom.csv.csv already exists. Skipping...\n",
      "Scraping top repositories for \"Awesome Lists\"\n",
      "The file data/Awesome Lists.csv.csv already exists. Skipping...\n",
      "Scraping top repositories for \"Amazon Web Services\"\n",
      "The file data/Amazon Web Services.csv.csv already exists. Skipping...\n",
      "Scraping top repositories for \"Azure\"\n",
      "The file data/Azure.csv.csv already exists. Skipping...\n",
      "Scraping top repositories for \"Babel\"\n",
      "The file data/Babel.csv.csv already exists. Skipping...\n",
      "Scraping top repositories for \"Bash\"\n",
      "The file data/Bash.csv.csv already exists. Skipping...\n",
      "Scraping top repositories for \"Bitcoin\"\n",
      "Scraping top repositories for \"Bootstrap\"\n",
      "Scraping top repositories for \"Bot\"\n",
      "Scraping top repositories for \"C\"\n",
      "Scraping top repositories for \"Chrome\"\n",
      "Scraping top repositories for \"Chrome extension\"\n",
      "Scraping top repositories for \"Command line interface\"\n",
      "Scraping top repositories for \"Clojure\"\n",
      "Scraping top repositories for \"Code quality\"\n",
      "Scraping top repositories for \"Code review\"\n",
      "Scraping top repositories for \"Compiler\"\n",
      "Scraping top repositories for \"Continuous integration\"\n",
      "Scraping top repositories for \"COVID-19\"\n",
      "Scraping top repositories for \"C++\"\n"
     ]
    }
   ],
   "source": [
    "os.makedirs('data', exist_ok=True)\n",
    "\n",
    "scrape_topics()\n",
    "\n",
    "scrap_repo_topics(topics_df)"
   ]
  },
  {
   "cell_type": "code",
   "execution_count": null,
   "id": "63f8f13b",
   "metadata": {},
   "outputs": [],
   "source": []
  }
 ],
 "metadata": {
  "kernelspec": {
   "display_name": "Python 3",
   "language": "python",
   "name": "python3"
  },
  "language_info": {
   "codemirror_mode": {
    "name": "ipython",
    "version": 3
   },
   "file_extension": ".py",
   "mimetype": "text/x-python",
   "name": "python",
   "nbconvert_exporter": "python",
   "pygments_lexer": "ipython3",
   "version": "3.8.8"
  }
 },
 "nbformat": 4,
 "nbformat_minor": 5
}
